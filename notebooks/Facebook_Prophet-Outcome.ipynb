{
 "cells": [
  {
   "cell_type": "markdown",
   "metadata": {},
   "source": [
    "# Facebook Prophet"
   ]
  },
  {
   "cell_type": "markdown",
   "metadata": {},
   "source": [
    "## Setup and Import\n",
    "\n",
    "As always, the first step is to import the required libraries and data. Since we do not want to run the SQL query every time, we can simply import the csv file we created in the first notebook."
   ]
  },
  {
   "cell_type": "code",
   "execution_count": 2,
   "metadata": {},
   "outputs": [],
   "source": [
    "# Import packages\n",
    "import pandas as pd\n",
    "import numpy as np\n",
    "from fbprophet import Prophet\n",
    "from fbprophet.make_holidays import make_holidays_df\n",
    "from fbprophet.plot import plot_plotly, plot_components_plotly\n",
    "from fbprophet.diagnostics import cross_validation\n",
    "from fbprophet.diagnostics import performance_metrics\n",
    "from fbprophet.plot import add_changepoints_to_plot\n",
    "from fbprophet.serialize import model_to_json, model_from_json\n",
    "\n",
    "from ipywidgets import HTML\n",
    "from io import BytesIO\n",
    "import base64\n",
    "import itertools\n",
    "\n",
    "import seaborn as sns\n",
    "import matplotlib.pyplot as plt\n",
    "\n",
    "import warnings\n",
    "warnings.simplefilter(\"ignore\")\n",
    "\n",
    "from sklearn.metrics import mean_squared_error\n",
    "from sklearn.metrics import mean_absolute_percentage_error\n",
    "\n",
    "import statistics\n",
    "import pickle\n",
    "\n",
    "\n",
    "\n",
    "# Turn off the max column width so the images won't be truncated\n",
    "pd.set_option('display.max_colwidth', None)\n",
    "# Show all Columns\n",
    "pd.set_option('display.max_columns', None)\n",
    "pd. set_option('display.max_rows', None)\n",
    " \n",
    "# Turning off the max column will display all the data\n",
    "# if gathering into sets / array we might want to restrict to a few items\n",
    "pd.set_option('display.max_seq_items', 50)\n",
    "pd.set_option('display.width', 1000)\n"
   ]
  },
  {
   "cell_type": "code",
   "execution_count": 3,
   "metadata": {},
   "outputs": [],
   "source": [
    "# Import dataframes for Stock Prices\n",
    "df = pd.read_csv('../data/out.csv', parse_dates=['Date'])\n",
    "stock_list_df = pd.read_csv('../data/stock_list.csv')"
   ]
  },
  {
   "cell_type": "markdown",
   "metadata": {},
   "source": [
    "# Finding the biggest Companies"
   ]
  },
  {
   "cell_type": "code",
   "execution_count": 4,
   "metadata": {},
   "outputs": [
    {
     "data": {
      "text/html": [
       "<div>\n",
       "<style scoped>\n",
       "    .dataframe tbody tr th:only-of-type {\n",
       "        vertical-align: middle;\n",
       "    }\n",
       "\n",
       "    .dataframe tbody tr th {\n",
       "        vertical-align: top;\n",
       "    }\n",
       "\n",
       "    .dataframe thead th {\n",
       "        text-align: right;\n",
       "    }\n",
       "</style>\n",
       "<table border=\"1\" class=\"dataframe\">\n",
       "  <thead>\n",
       "    <tr style=\"text-align: right;\">\n",
       "      <th></th>\n",
       "      <th>SecuritiesCode</th>\n",
       "      <th>EffectiveDate</th>\n",
       "      <th>Name</th>\n",
       "      <th>Section/Products</th>\n",
       "      <th>NewMarketSegment</th>\n",
       "      <th>33SectorCode</th>\n",
       "      <th>33SectorName</th>\n",
       "      <th>17SectorCode</th>\n",
       "      <th>17SectorName</th>\n",
       "      <th>NewIndexSeriesSizeCode</th>\n",
       "      <th>NewIndexSeriesSize</th>\n",
       "      <th>TradeDate</th>\n",
       "      <th>Close</th>\n",
       "      <th>IssuedShares</th>\n",
       "      <th>MarketCapitalization</th>\n",
       "      <th>Universe0</th>\n",
       "    </tr>\n",
       "  </thead>\n",
       "  <tbody>\n",
       "    <tr>\n",
       "      <th>3065</th>\n",
       "      <td>7203</td>\n",
       "      <td>20211230</td>\n",
       "      <td>TOYOTA MOTOR CORPORATION</td>\n",
       "      <td>First Section (Domestic)</td>\n",
       "      <td>Prime Market</td>\n",
       "      <td>3700</td>\n",
       "      <td>Transportation Equipment</td>\n",
       "      <td>6</td>\n",
       "      <td>AUTOMOBILES &amp; TRANSPORTATION EQUIPMENT</td>\n",
       "      <td>1</td>\n",
       "      <td>TOPIX Core30</td>\n",
       "      <td>20211230.0</td>\n",
       "      <td>2105.5</td>\n",
       "      <td>1.631499e+10</td>\n",
       "      <td>3.435121e+13</td>\n",
       "      <td>True</td>\n",
       "    </tr>\n",
       "    <tr>\n",
       "      <th>2804</th>\n",
       "      <td>6758</td>\n",
       "      <td>20211230</td>\n",
       "      <td>SONY GROUP CORPORATION</td>\n",
       "      <td>First Section (Domestic)</td>\n",
       "      <td>Prime Market</td>\n",
       "      <td>3650</td>\n",
       "      <td>Electric Appliances</td>\n",
       "      <td>9</td>\n",
       "      <td>ELECTRIC APPLIANCES &amp; PRECISION INSTRUMENTS</td>\n",
       "      <td>1</td>\n",
       "      <td>TOPIX Core30</td>\n",
       "      <td>20211230.0</td>\n",
       "      <td>14475.0</td>\n",
       "      <td>1.261082e+09</td>\n",
       "      <td>1.825416e+13</td>\n",
       "      <td>True</td>\n",
       "    </tr>\n",
       "    <tr>\n",
       "      <th>2867</th>\n",
       "      <td>6861</td>\n",
       "      <td>20211230</td>\n",
       "      <td>KEYENCE CORPORATION</td>\n",
       "      <td>First Section (Domestic)</td>\n",
       "      <td>Prime Market</td>\n",
       "      <td>3650</td>\n",
       "      <td>Electric Appliances</td>\n",
       "      <td>9</td>\n",
       "      <td>ELECTRIC APPLIANCES &amp; PRECISION INSTRUMENTS</td>\n",
       "      <td>1</td>\n",
       "      <td>TOPIX Core30</td>\n",
       "      <td>20211230.0</td>\n",
       "      <td>72280.0</td>\n",
       "      <td>2.432077e+08</td>\n",
       "      <td>1.757905e+13</td>\n",
       "      <td>True</td>\n",
       "    </tr>\n",
       "    <tr>\n",
       "      <th>2375</th>\n",
       "      <td>6098</td>\n",
       "      <td>20211230</td>\n",
       "      <td>Recruit Holdings Co.,Ltd.</td>\n",
       "      <td>First Section (Domestic)</td>\n",
       "      <td>Prime Market</td>\n",
       "      <td>9050</td>\n",
       "      <td>Services</td>\n",
       "      <td>10</td>\n",
       "      <td>IT &amp; SERVICES, OTHERS</td>\n",
       "      <td>1</td>\n",
       "      <td>TOPIX Core30</td>\n",
       "      <td>20211230.0</td>\n",
       "      <td>6972.0</td>\n",
       "      <td>1.695960e+09</td>\n",
       "      <td>1.182423e+13</td>\n",
       "      <td>True</td>\n",
       "    </tr>\n",
       "    <tr>\n",
       "      <th>4158</th>\n",
       "      <td>9432</td>\n",
       "      <td>20211230</td>\n",
       "      <td>NIPPON TELEGRAPH AND TELEPHONE CORPORATION</td>\n",
       "      <td>First Section (Domestic)</td>\n",
       "      <td>Prime Market</td>\n",
       "      <td>5250</td>\n",
       "      <td>Information &amp; Communication</td>\n",
       "      <td>10</td>\n",
       "      <td>IT &amp; SERVICES, OTHERS</td>\n",
       "      <td>1</td>\n",
       "      <td>TOPIX Core30</td>\n",
       "      <td>20211230.0</td>\n",
       "      <td>3150.0</td>\n",
       "      <td>3.622013e+09</td>\n",
       "      <td>1.140934e+13</td>\n",
       "      <td>True</td>\n",
       "    </tr>\n",
       "    <tr>\n",
       "      <th>3577</th>\n",
       "      <td>8035</td>\n",
       "      <td>20211230</td>\n",
       "      <td>Tokyo Electron Limited</td>\n",
       "      <td>First Section (Domestic)</td>\n",
       "      <td>Prime Market</td>\n",
       "      <td>3650</td>\n",
       "      <td>Electric Appliances</td>\n",
       "      <td>9</td>\n",
       "      <td>ELECTRIC APPLIANCES &amp; PRECISION INSTRUMENTS</td>\n",
       "      <td>1</td>\n",
       "      <td>TOPIX Core30</td>\n",
       "      <td>20211230.0</td>\n",
       "      <td>66280.0</td>\n",
       "      <td>1.572109e+08</td>\n",
       "      <td>1.041994e+13</td>\n",
       "      <td>True</td>\n",
       "    </tr>\n",
       "    <tr>\n",
       "      <th>4404</th>\n",
       "      <td>9984</td>\n",
       "      <td>20211230</td>\n",
       "      <td>SoftBank Group Corp.</td>\n",
       "      <td>First Section (Domestic)</td>\n",
       "      <td>Prime Market</td>\n",
       "      <td>5250</td>\n",
       "      <td>Information &amp; Communication</td>\n",
       "      <td>10</td>\n",
       "      <td>IT &amp; SERVICES, OTHERS</td>\n",
       "      <td>1</td>\n",
       "      <td>TOPIX Core30</td>\n",
       "      <td>20211230.0</td>\n",
       "      <td>5434.0</td>\n",
       "      <td>1.722954e+09</td>\n",
       "      <td>9.362531e+12</td>\n",
       "      <td>True</td>\n",
       "    </tr>\n",
       "    <tr>\n",
       "      <th>1508</th>\n",
       "      <td>4063</td>\n",
       "      <td>20211230</td>\n",
       "      <td>Shin-Etsu Chemical Co.,Ltd.</td>\n",
       "      <td>First Section (Domestic)</td>\n",
       "      <td>Prime Market</td>\n",
       "      <td>3200</td>\n",
       "      <td>Chemicals</td>\n",
       "      <td>4</td>\n",
       "      <td>RAW MATERIALS &amp; CHEMICALS</td>\n",
       "      <td>1</td>\n",
       "      <td>TOPIX Core30</td>\n",
       "      <td>20211230.0</td>\n",
       "      <td>19920.0</td>\n",
       "      <td>4.166628e+08</td>\n",
       "      <td>8.299923e+12</td>\n",
       "      <td>True</td>\n",
       "    </tr>\n",
       "    <tr>\n",
       "      <th>3732</th>\n",
       "      <td>8306</td>\n",
       "      <td>20211230</td>\n",
       "      <td>Mitsubishi UFJ Financial Group,Inc.</td>\n",
       "      <td>First Section (Domestic)</td>\n",
       "      <td>Prime Market</td>\n",
       "      <td>7050</td>\n",
       "      <td>Banks</td>\n",
       "      <td>15</td>\n",
       "      <td>BANKS</td>\n",
       "      <td>1</td>\n",
       "      <td>TOPIX Core30</td>\n",
       "      <td>20211230.0</td>\n",
       "      <td>624.9</td>\n",
       "      <td>1.328200e+10</td>\n",
       "      <td>8.299919e+12</td>\n",
       "      <td>True</td>\n",
       "    </tr>\n",
       "    <tr>\n",
       "      <th>2707</th>\n",
       "      <td>6594</td>\n",
       "      <td>20211230</td>\n",
       "      <td>NIDEC CORPORATION</td>\n",
       "      <td>First Section (Domestic)</td>\n",
       "      <td>Prime Market</td>\n",
       "      <td>3650</td>\n",
       "      <td>Electric Appliances</td>\n",
       "      <td>9</td>\n",
       "      <td>ELECTRIC APPLIANCES &amp; PRECISION INSTRUMENTS</td>\n",
       "      <td>1</td>\n",
       "      <td>TOPIX Core30</td>\n",
       "      <td>20211230.0</td>\n",
       "      <td>13520.0</td>\n",
       "      <td>5.962845e+08</td>\n",
       "      <td>8.061766e+12</td>\n",
       "      <td>True</td>\n",
       "    </tr>\n",
       "  </tbody>\n",
       "</table>\n",
       "</div>"
      ],
      "text/plain": [
       "      SecuritiesCode  EffectiveDate                                        Name          Section/Products NewMarketSegment 33SectorCode                 33SectorName 17SectorCode                                  17SectorName NewIndexSeriesSizeCode NewIndexSeriesSize   TradeDate    Close  IssuedShares  MarketCapitalization  Universe0\n",
       "3065            7203       20211230                    TOYOTA MOTOR CORPORATION  First Section (Domestic)     Prime Market         3700     Transportation Equipment            6       AUTOMOBILES & TRANSPORTATION EQUIPMENT                       1       TOPIX Core30  20211230.0   2105.5  1.631499e+10          3.435121e+13       True\n",
       "2804            6758       20211230                      SONY GROUP CORPORATION  First Section (Domestic)     Prime Market         3650          Electric Appliances            9  ELECTRIC APPLIANCES & PRECISION INSTRUMENTS                       1       TOPIX Core30  20211230.0  14475.0  1.261082e+09          1.825416e+13       True\n",
       "2867            6861       20211230                         KEYENCE CORPORATION  First Section (Domestic)     Prime Market         3650          Electric Appliances            9  ELECTRIC APPLIANCES & PRECISION INSTRUMENTS                       1       TOPIX Core30  20211230.0  72280.0  2.432077e+08          1.757905e+13       True\n",
       "2375            6098       20211230                   Recruit Holdings Co.,Ltd.  First Section (Domestic)     Prime Market         9050                     Services           10                        IT & SERVICES, OTHERS                       1       TOPIX Core30  20211230.0   6972.0  1.695960e+09          1.182423e+13       True\n",
       "4158            9432       20211230  NIPPON TELEGRAPH AND TELEPHONE CORPORATION  First Section (Domestic)     Prime Market         5250  Information & Communication           10                        IT & SERVICES, OTHERS                       1       TOPIX Core30  20211230.0   3150.0  3.622013e+09          1.140934e+13       True\n",
       "3577            8035       20211230                      Tokyo Electron Limited  First Section (Domestic)     Prime Market         3650          Electric Appliances            9  ELECTRIC APPLIANCES & PRECISION INSTRUMENTS                       1       TOPIX Core30  20211230.0  66280.0  1.572109e+08          1.041994e+13       True\n",
       "4404            9984       20211230                        SoftBank Group Corp.  First Section (Domestic)     Prime Market         5250  Information & Communication           10                        IT & SERVICES, OTHERS                       1       TOPIX Core30  20211230.0   5434.0  1.722954e+09          9.362531e+12       True\n",
       "1508            4063       20211230                 Shin-Etsu Chemical Co.,Ltd.  First Section (Domestic)     Prime Market         3200                    Chemicals            4                    RAW MATERIALS & CHEMICALS                       1       TOPIX Core30  20211230.0  19920.0  4.166628e+08          8.299923e+12       True\n",
       "3732            8306       20211230         Mitsubishi UFJ Financial Group,Inc.  First Section (Domestic)     Prime Market         7050                        Banks           15                                        BANKS                       1       TOPIX Core30  20211230.0    624.9  1.328200e+10          8.299919e+12       True\n",
       "2707            6594       20211230                           NIDEC CORPORATION  First Section (Domestic)     Prime Market         3650          Electric Appliances            9  ELECTRIC APPLIANCES & PRECISION INSTRUMENTS                       1       TOPIX Core30  20211230.0  13520.0  5.962845e+08          8.061766e+12       True"
      ]
     },
     "execution_count": 4,
     "metadata": {},
     "output_type": "execute_result"
    }
   ],
   "source": [
    "# Sort Stocks by Market Capitalization, get rid of the ETFs/ENAs and create a new Dataframe with the chosen Stocks\n",
    "biggest = stock_list_df.sort_values(by=['MarketCapitalization'], ascending=False)\n",
    "biggestc=biggest.dropna(axis=0, subset=('NewMarketSegment', ))\n",
    "Cselect = biggestc.head(10)\n",
    "Cselect"
   ]
  },
  {
   "cell_type": "code",
   "execution_count": 5,
   "metadata": {},
   "outputs": [
    {
     "data": {
      "text/plain": [
       "[7203, 6758, 6861, 6098, 9432, 8035, 9984, 4063, 8306, 6594]"
      ]
     },
     "execution_count": 5,
     "metadata": {},
     "output_type": "execute_result"
    }
   ],
   "source": [
    "#Create a List of the chosen Stocks\n",
    "c_list = Cselect['SecuritiesCode'].tolist()\n",
    "c_list"
   ]
  },
  {
   "cell_type": "code",
   "execution_count": 6,
   "metadata": {},
   "outputs": [
    {
     "data": {
      "text/plain": [
       "['TOYOTA MOTOR CORPORATION',\n",
       " 'SONY GROUP CORPORATION',\n",
       " 'KEYENCE CORPORATION',\n",
       " 'Recruit Holdings Co.,Ltd.',\n",
       " 'NIPPON TELEGRAPH AND TELEPHONE CORPORATION',\n",
       " 'Tokyo Electron Limited',\n",
       " 'SoftBank Group Corp.',\n",
       " 'Shin-Etsu Chemical Co.,Ltd.',\n",
       " 'Mitsubishi UFJ Financial Group,Inc.',\n",
       " 'NIDEC CORPORATION']"
      ]
     },
     "execution_count": 6,
     "metadata": {},
     "output_type": "execute_result"
    }
   ],
   "source": [
    "#Create a List of Names of the chosen Stocks\n",
    "c_list_name = Cselect['Name'].tolist()\n",
    "c_list_name"
   ]
  },
  {
   "cell_type": "markdown",
   "metadata": {},
   "source": [
    "# Profit Calculatíon"
   ]
  },
  {
   "cell_type": "code",
   "execution_count": 7,
   "metadata": {},
   "outputs": [],
   "source": [
    "def outcome_forecast(train_df, forecast):\n",
    "    last_close = train_df['Close'].iloc[-1]\n",
    "    last_forecast = forecast['yhat'].iloc[-1]\n",
    "    return round(last_forecast-last_close,2)"
   ]
  },
  {
   "cell_type": "code",
   "execution_count": 8,
   "metadata": {},
   "outputs": [],
   "source": [
    "def outcome_actual(train_df, test_df, forecast):\n",
    "    last_close = train_df['Close'].iloc[-1]\n",
    "    date_last_forecast = forecast['ds'].iloc[-1]\n",
    "    actual_test = test_df[test_df['Date']==date_last_forecast]['Close'].iloc[-1]\n",
    "    return round(actual_test-last_close,2)\n",
    "    "
   ]
  },
  {
   "cell_type": "code",
   "execution_count": null,
   "metadata": {},
   "outputs": [],
   "source": []
  },
  {
   "cell_type": "code",
   "execution_count": 9,
   "metadata": {},
   "outputs": [],
   "source": [
    "def roi_forecast(train_df, forecast):\n",
    "    last_close = train_df['Close'].iloc[-1]\n",
    "    last_forecast = forecast['yhat'].iloc[-1]\n",
    "    return round((last_forecast-last_close)/last_close,2)"
   ]
  },
  {
   "cell_type": "code",
   "execution_count": 10,
   "metadata": {},
   "outputs": [],
   "source": [
    "def roi_actual(train_df, test_df, forecast):\n",
    "    last_close = train_df['Close'].iloc[-1]\n",
    "    date_last_forecast = forecast['ds'].iloc[-1]\n",
    "    actual_test = test_df[test_df['Date']==date_last_forecast]['Close'].iloc[-1]\n",
    "    return round((actual_test-last_close)/last_close,2)\n",
    "    "
   ]
  },
  {
   "cell_type": "code",
   "execution_count": 11,
   "metadata": {
    "tags": []
   },
   "outputs": [],
   "source": [
    "of_list=[]\n",
    "roi_f_list=[]\n",
    "oa_list=[]\n",
    "roi_a_list=[]\n",
    "\n",
    "for Code in c_list:\n",
    "    forecast=pd.read_csv(f'forecast_{Code}.csv')\n",
    "    cols = ['Date', 'Open', 'High', 'Low', 'Close', 'Volume', 'SecuritiesCode', 'Target', '17SectorName']\n",
    "    STOCK = df[df.SecuritiesCode==Code][cols].set_index(\"Date\")\n",
    "\n",
    "    #Select Testsize in Days\n",
    "    test_size= 30\n",
    "    train_df = STOCK[:-test_size].reset_index()\n",
    "    test_df = STOCK[-test_size:].reset_index()\n",
    "    \n",
    "    of=outcome_forecast(train_df, forecast)\n",
    "    of_list.append(of)\n",
    "    \n",
    "    roi_f=roi_forecast(train_df, forecast)\n",
    "    roi_f_list.append(roi_f)\n",
    "    \n",
    "    oa=outcome_actual(train_df,test_df,forecast)\n",
    "    oa_list.append(oa)\n",
    "                      \n",
    "    roi_a=roi_actual(train_df, test_df, forecast)\n",
    "    roi_a_list.append(roi_a)\n",
    "    "
   ]
  },
  {
   "cell_type": "markdown",
   "metadata": {},
   "source": [
    "# Results"
   ]
  },
  {
   "cell_type": "code",
   "execution_count": 12,
   "metadata": {},
   "outputs": [],
   "source": [
    "df_outcome= pd.DataFrame(list(zip(c_list, c_list_name, of_list, roi_f_list, oa_list, roi_a_list, )),columns=['SecuritieCode', 'Name', 'Profit_per_Stock_forecast', 'ROI_forecast', 'Profit_per_Stock_actual', 'ROI_actual'])"
   ]
  },
  {
   "cell_type": "code",
   "execution_count": 13,
   "metadata": {},
   "outputs": [
    {
     "data": {
      "text/html": [
       "<div>\n",
       "<style scoped>\n",
       "    .dataframe tbody tr th:only-of-type {\n",
       "        vertical-align: middle;\n",
       "    }\n",
       "\n",
       "    .dataframe tbody tr th {\n",
       "        vertical-align: top;\n",
       "    }\n",
       "\n",
       "    .dataframe thead th {\n",
       "        text-align: right;\n",
       "    }\n",
       "</style>\n",
       "<table border=\"1\" class=\"dataframe\">\n",
       "  <thead>\n",
       "    <tr style=\"text-align: right;\">\n",
       "      <th></th>\n",
       "      <th>SecuritieCode</th>\n",
       "      <th>Name</th>\n",
       "      <th>Profit_per_Stock_forecast</th>\n",
       "      <th>ROI_forecast</th>\n",
       "      <th>Profit_per_Stock_actual</th>\n",
       "      <th>ROI_actual</th>\n",
       "    </tr>\n",
       "  </thead>\n",
       "  <tbody>\n",
       "    <tr>\n",
       "      <th>0</th>\n",
       "      <td>7203</td>\n",
       "      <td>TOYOTA MOTOR CORPORATION</td>\n",
       "      <td>51.13</td>\n",
       "      <td>0.03</td>\n",
       "      <td>101.0</td>\n",
       "      <td>0.05</td>\n",
       "    </tr>\n",
       "    <tr>\n",
       "      <th>1</th>\n",
       "      <td>6758</td>\n",
       "      <td>SONY GROUP CORPORATION</td>\n",
       "      <td>582.93</td>\n",
       "      <td>0.05</td>\n",
       "      <td>1525.0</td>\n",
       "      <td>0.12</td>\n",
       "    </tr>\n",
       "    <tr>\n",
       "      <th>2</th>\n",
       "      <td>6861</td>\n",
       "      <td>KEYENCE CORPORATION</td>\n",
       "      <td>-1134.12</td>\n",
       "      <td>-0.02</td>\n",
       "      <td>6230.0</td>\n",
       "      <td>0.09</td>\n",
       "    </tr>\n",
       "    <tr>\n",
       "      <th>3</th>\n",
       "      <td>6098</td>\n",
       "      <td>Recruit Holdings Co.,Ltd.</td>\n",
       "      <td>723.61</td>\n",
       "      <td>0.10</td>\n",
       "      <td>361.0</td>\n",
       "      <td>0.05</td>\n",
       "    </tr>\n",
       "    <tr>\n",
       "      <th>4</th>\n",
       "      <td>9432</td>\n",
       "      <td>NIPPON TELEGRAPH AND TELEPHONE CORPORATION</td>\n",
       "      <td>233.17</td>\n",
       "      <td>0.07</td>\n",
       "      <td>46.0</td>\n",
       "      <td>0.01</td>\n",
       "    </tr>\n",
       "    <tr>\n",
       "      <th>5</th>\n",
       "      <td>8035</td>\n",
       "      <td>Tokyo Electron Limited</td>\n",
       "      <td>2172.88</td>\n",
       "      <td>0.04</td>\n",
       "      <td>11860.0</td>\n",
       "      <td>0.23</td>\n",
       "    </tr>\n",
       "    <tr>\n",
       "      <th>6</th>\n",
       "      <td>9984</td>\n",
       "      <td>SoftBank Group Corp.</td>\n",
       "      <td>-899.18</td>\n",
       "      <td>-0.13</td>\n",
       "      <td>144.0</td>\n",
       "      <td>0.02</td>\n",
       "    </tr>\n",
       "    <tr>\n",
       "      <th>7</th>\n",
       "      <td>4063</td>\n",
       "      <td>Shin-Etsu Chemical Co.,Ltd.</td>\n",
       "      <td>139.97</td>\n",
       "      <td>0.01</td>\n",
       "      <td>725.0</td>\n",
       "      <td>0.04</td>\n",
       "    </tr>\n",
       "    <tr>\n",
       "      <th>8</th>\n",
       "      <td>8306</td>\n",
       "      <td>Mitsubishi UFJ Financial Group,Inc.</td>\n",
       "      <td>41.92</td>\n",
       "      <td>0.06</td>\n",
       "      <td>-26.8</td>\n",
       "      <td>-0.04</td>\n",
       "    </tr>\n",
       "    <tr>\n",
       "      <th>9</th>\n",
       "      <td>6594</td>\n",
       "      <td>NIDEC CORPORATION</td>\n",
       "      <td>-529.36</td>\n",
       "      <td>-0.04</td>\n",
       "      <td>840.0</td>\n",
       "      <td>0.07</td>\n",
       "    </tr>\n",
       "  </tbody>\n",
       "</table>\n",
       "</div>"
      ],
      "text/plain": [
       "   SecuritieCode                                        Name  Profit_per_Stock_forecast  ROI_forecast  Profit_per_Stock_actual  ROI_actual\n",
       "0           7203                    TOYOTA MOTOR CORPORATION                      51.13          0.03                    101.0        0.05\n",
       "1           6758                      SONY GROUP CORPORATION                     582.93          0.05                   1525.0        0.12\n",
       "2           6861                         KEYENCE CORPORATION                   -1134.12         -0.02                   6230.0        0.09\n",
       "3           6098                   Recruit Holdings Co.,Ltd.                     723.61          0.10                    361.0        0.05\n",
       "4           9432  NIPPON TELEGRAPH AND TELEPHONE CORPORATION                     233.17          0.07                     46.0        0.01\n",
       "5           8035                      Tokyo Electron Limited                    2172.88          0.04                  11860.0        0.23\n",
       "6           9984                        SoftBank Group Corp.                    -899.18         -0.13                    144.0        0.02\n",
       "7           4063                 Shin-Etsu Chemical Co.,Ltd.                     139.97          0.01                    725.0        0.04\n",
       "8           8306         Mitsubishi UFJ Financial Group,Inc.                      41.92          0.06                    -26.8       -0.04\n",
       "9           6594                           NIDEC CORPORATION                    -529.36         -0.04                    840.0        0.07"
      ]
     },
     "execution_count": 13,
     "metadata": {},
     "output_type": "execute_result"
    }
   ],
   "source": [
    "df_outcome"
   ]
  },
  {
   "cell_type": "code",
   "execution_count": 14,
   "metadata": {},
   "outputs": [
    {
     "data": {
      "text/html": [
       "<div>\n",
       "<style scoped>\n",
       "    .dataframe tbody tr th:only-of-type {\n",
       "        vertical-align: middle;\n",
       "    }\n",
       "\n",
       "    .dataframe tbody tr th {\n",
       "        vertical-align: top;\n",
       "    }\n",
       "\n",
       "    .dataframe thead th {\n",
       "        text-align: right;\n",
       "    }\n",
       "</style>\n",
       "<table border=\"1\" class=\"dataframe\">\n",
       "  <thead>\n",
       "    <tr style=\"text-align: right;\">\n",
       "      <th></th>\n",
       "      <th>SecuritieCode</th>\n",
       "      <th>Name</th>\n",
       "      <th>Profit_per_Stock_forecast</th>\n",
       "      <th>ROI_forecast</th>\n",
       "      <th>Profit_per_Stock_actual</th>\n",
       "      <th>ROI_actual</th>\n",
       "    </tr>\n",
       "  </thead>\n",
       "  <tbody>\n",
       "    <tr>\n",
       "      <th>0</th>\n",
       "      <td>6098</td>\n",
       "      <td>Recruit Holdings Co.,Ltd.</td>\n",
       "      <td>723.61</td>\n",
       "      <td>0.10</td>\n",
       "      <td>361.0</td>\n",
       "      <td>0.05</td>\n",
       "    </tr>\n",
       "    <tr>\n",
       "      <th>1</th>\n",
       "      <td>9432</td>\n",
       "      <td>NIPPON TELEGRAPH AND TELEPHONE CORPORATION</td>\n",
       "      <td>233.17</td>\n",
       "      <td>0.07</td>\n",
       "      <td>46.0</td>\n",
       "      <td>0.01</td>\n",
       "    </tr>\n",
       "    <tr>\n",
       "      <th>2</th>\n",
       "      <td>8306</td>\n",
       "      <td>Mitsubishi UFJ Financial Group,Inc.</td>\n",
       "      <td>41.92</td>\n",
       "      <td>0.06</td>\n",
       "      <td>-26.8</td>\n",
       "      <td>-0.04</td>\n",
       "    </tr>\n",
       "    <tr>\n",
       "      <th>3</th>\n",
       "      <td>6758</td>\n",
       "      <td>SONY GROUP CORPORATION</td>\n",
       "      <td>582.93</td>\n",
       "      <td>0.05</td>\n",
       "      <td>1525.0</td>\n",
       "      <td>0.12</td>\n",
       "    </tr>\n",
       "    <tr>\n",
       "      <th>4</th>\n",
       "      <td>8035</td>\n",
       "      <td>Tokyo Electron Limited</td>\n",
       "      <td>2172.88</td>\n",
       "      <td>0.04</td>\n",
       "      <td>11860.0</td>\n",
       "      <td>0.23</td>\n",
       "    </tr>\n",
       "    <tr>\n",
       "      <th>5</th>\n",
       "      <td>7203</td>\n",
       "      <td>TOYOTA MOTOR CORPORATION</td>\n",
       "      <td>51.13</td>\n",
       "      <td>0.03</td>\n",
       "      <td>101.0</td>\n",
       "      <td>0.05</td>\n",
       "    </tr>\n",
       "    <tr>\n",
       "      <th>6</th>\n",
       "      <td>4063</td>\n",
       "      <td>Shin-Etsu Chemical Co.,Ltd.</td>\n",
       "      <td>139.97</td>\n",
       "      <td>0.01</td>\n",
       "      <td>725.0</td>\n",
       "      <td>0.04</td>\n",
       "    </tr>\n",
       "    <tr>\n",
       "      <th>7</th>\n",
       "      <td>6861</td>\n",
       "      <td>KEYENCE CORPORATION</td>\n",
       "      <td>-1134.12</td>\n",
       "      <td>-0.02</td>\n",
       "      <td>6230.0</td>\n",
       "      <td>0.09</td>\n",
       "    </tr>\n",
       "    <tr>\n",
       "      <th>8</th>\n",
       "      <td>6594</td>\n",
       "      <td>NIDEC CORPORATION</td>\n",
       "      <td>-529.36</td>\n",
       "      <td>-0.04</td>\n",
       "      <td>840.0</td>\n",
       "      <td>0.07</td>\n",
       "    </tr>\n",
       "    <tr>\n",
       "      <th>9</th>\n",
       "      <td>9984</td>\n",
       "      <td>SoftBank Group Corp.</td>\n",
       "      <td>-899.18</td>\n",
       "      <td>-0.13</td>\n",
       "      <td>144.0</td>\n",
       "      <td>0.02</td>\n",
       "    </tr>\n",
       "  </tbody>\n",
       "</table>\n",
       "</div>"
      ],
      "text/plain": [
       "   SecuritieCode                                        Name  Profit_per_Stock_forecast  ROI_forecast  Profit_per_Stock_actual  ROI_actual\n",
       "0           6098                   Recruit Holdings Co.,Ltd.                     723.61          0.10                    361.0        0.05\n",
       "1           9432  NIPPON TELEGRAPH AND TELEPHONE CORPORATION                     233.17          0.07                     46.0        0.01\n",
       "2           8306         Mitsubishi UFJ Financial Group,Inc.                      41.92          0.06                    -26.8       -0.04\n",
       "3           6758                      SONY GROUP CORPORATION                     582.93          0.05                   1525.0        0.12\n",
       "4           8035                      Tokyo Electron Limited                    2172.88          0.04                  11860.0        0.23\n",
       "5           7203                    TOYOTA MOTOR CORPORATION                      51.13          0.03                    101.0        0.05\n",
       "6           4063                 Shin-Etsu Chemical Co.,Ltd.                     139.97          0.01                    725.0        0.04\n",
       "7           6861                         KEYENCE CORPORATION                   -1134.12         -0.02                   6230.0        0.09\n",
       "8           6594                           NIDEC CORPORATION                    -529.36         -0.04                    840.0        0.07\n",
       "9           9984                        SoftBank Group Corp.                    -899.18         -0.13                    144.0        0.02"
      ]
     },
     "execution_count": 14,
     "metadata": {},
     "output_type": "execute_result"
    }
   ],
   "source": [
    "df_outcome.sort_values('ROI_forecast', ascending=False).reset_index(drop=True)"
   ]
  },
  {
   "cell_type": "markdown",
   "metadata": {},
   "source": [
    "# Forcasted Profit"
   ]
  },
  {
   "cell_type": "code",
   "execution_count": 15,
   "metadata": {},
   "outputs": [],
   "source": [
    "df_outcome_for= df_outcome[['Name', 'Profit_per_Stock_forecast', 'ROI_forecast']]"
   ]
  },
  {
   "cell_type": "code",
   "execution_count": 28,
   "metadata": {},
   "outputs": [
    {
     "data": {
      "text/html": [
       "<div>\n",
       "<style scoped>\n",
       "    .dataframe tbody tr th:only-of-type {\n",
       "        vertical-align: middle;\n",
       "    }\n",
       "\n",
       "    .dataframe tbody tr th {\n",
       "        vertical-align: top;\n",
       "    }\n",
       "\n",
       "    .dataframe thead th {\n",
       "        text-align: right;\n",
       "    }\n",
       "</style>\n",
       "<table border=\"1\" class=\"dataframe\">\n",
       "  <thead>\n",
       "    <tr style=\"text-align: right;\">\n",
       "      <th></th>\n",
       "      <th>Name</th>\n",
       "      <th>ROI_forecast</th>\n",
       "      <th>ROI_actual</th>\n",
       "      <th>Profit_20%</th>\n",
       "    </tr>\n",
       "  </thead>\n",
       "  <tbody>\n",
       "    <tr>\n",
       "      <th>0</th>\n",
       "      <td>Recruit Holdings Co.,Ltd.</td>\n",
       "      <td>0.10</td>\n",
       "      <td>0.05</td>\n",
       "      <td>200000.0</td>\n",
       "    </tr>\n",
       "    <tr>\n",
       "      <th>1</th>\n",
       "      <td>NIPPON TELEGRAPH AND TELEPHONE CORPORATION</td>\n",
       "      <td>0.07</td>\n",
       "      <td>0.01</td>\n",
       "      <td>140000.0</td>\n",
       "    </tr>\n",
       "    <tr>\n",
       "      <th>2</th>\n",
       "      <td>Mitsubishi UFJ Financial Group,Inc.</td>\n",
       "      <td>0.06</td>\n",
       "      <td>-0.04</td>\n",
       "      <td>120000.0</td>\n",
       "    </tr>\n",
       "    <tr>\n",
       "      <th>3</th>\n",
       "      <td>SONY GROUP CORPORATION</td>\n",
       "      <td>0.05</td>\n",
       "      <td>0.12</td>\n",
       "      <td>100000.0</td>\n",
       "    </tr>\n",
       "    <tr>\n",
       "      <th>4</th>\n",
       "      <td>Tokyo Electron Limited</td>\n",
       "      <td>0.04</td>\n",
       "      <td>0.23</td>\n",
       "      <td>80000.0</td>\n",
       "    </tr>\n",
       "  </tbody>\n",
       "</table>\n",
       "</div>"
      ],
      "text/plain": [
       "                                         Name  ROI_forecast  ROI_actual  Profit_20%\n",
       "0                   Recruit Holdings Co.,Ltd.          0.10        0.05    200000.0\n",
       "1  NIPPON TELEGRAPH AND TELEPHONE CORPORATION          0.07        0.01    140000.0\n",
       "2         Mitsubishi UFJ Financial Group,Inc.          0.06       -0.04    120000.0\n",
       "3                      SONY GROUP CORPORATION          0.05        0.12    100000.0\n",
       "4                      Tokyo Electron Limited          0.04        0.23     80000.0"
      ]
     },
     "execution_count": 28,
     "metadata": {},
     "output_type": "execute_result"
    }
   ],
   "source": [
    "Top_5_for = df_outcome.sort_values('ROI_forecast', ascending=False).reset_index(drop=True).head(5)\n",
    "Top_5_for['Profit_20%']=Top_5_for['ROI_forecast']*2000000\n",
    "Top_5_for= Top_5_for[['Name','ROI_forecast','ROI_actual', 'Profit_20%']]\n",
    "Top_5_for"
   ]
  },
  {
   "cell_type": "code",
   "execution_count": 17,
   "metadata": {},
   "outputs": [
    {
     "data": {
      "text/plain": [
       "640000.0"
      ]
     },
     "execution_count": 17,
     "metadata": {},
     "output_type": "execute_result"
    }
   ],
   "source": [
    "ROI_f = Top_5_for['Profit_20%'].sum()\n",
    "ROI_f"
   ]
  },
  {
   "cell_type": "markdown",
   "metadata": {},
   "source": [
    "# Actual Profit on Forecasted Stocks"
   ]
  },
  {
   "cell_type": "code",
   "execution_count": 29,
   "metadata": {},
   "outputs": [],
   "source": [
    "df_outcome_for_act= df_outcome[['Name','ROI_forecast', 'Profit_per_Stock_actual', 'ROI_actual']]"
   ]
  },
  {
   "cell_type": "code",
   "execution_count": 43,
   "metadata": {},
   "outputs": [
    {
     "data": {
      "text/html": [
       "<div>\n",
       "<style scoped>\n",
       "    .dataframe tbody tr th:only-of-type {\n",
       "        vertical-align: middle;\n",
       "    }\n",
       "\n",
       "    .dataframe tbody tr th {\n",
       "        vertical-align: top;\n",
       "    }\n",
       "\n",
       "    .dataframe thead th {\n",
       "        text-align: right;\n",
       "    }\n",
       "</style>\n",
       "<table border=\"1\" class=\"dataframe\">\n",
       "  <thead>\n",
       "    <tr style=\"text-align: right;\">\n",
       "      <th></th>\n",
       "      <th>Name</th>\n",
       "      <th>Profit</th>\n",
       "    </tr>\n",
       "  </thead>\n",
       "  <tbody>\n",
       "    <tr>\n",
       "      <th>0</th>\n",
       "      <td>Recruit Holdings Co.,Ltd.</td>\n",
       "      <td>100000.0</td>\n",
       "    </tr>\n",
       "    <tr>\n",
       "      <th>1</th>\n",
       "      <td>NIPPON TELEGRAPH AND TELEPHONE CORPORATION</td>\n",
       "      <td>20000.0</td>\n",
       "    </tr>\n",
       "    <tr>\n",
       "      <th>2</th>\n",
       "      <td>Mitsubishi UFJ Financial Group,Inc.</td>\n",
       "      <td>-80000.0</td>\n",
       "    </tr>\n",
       "    <tr>\n",
       "      <th>3</th>\n",
       "      <td>SONY GROUP CORPORATION</td>\n",
       "      <td>240000.0</td>\n",
       "    </tr>\n",
       "    <tr>\n",
       "      <th>4</th>\n",
       "      <td>Tokyo Electron Limited</td>\n",
       "      <td>460000.0</td>\n",
       "    </tr>\n",
       "  </tbody>\n",
       "</table>\n",
       "</div>"
      ],
      "text/plain": [
       "                                         Name    Profit\n",
       "0                   Recruit Holdings Co.,Ltd.  100000.0\n",
       "1  NIPPON TELEGRAPH AND TELEPHONE CORPORATION   20000.0\n",
       "2         Mitsubishi UFJ Financial Group,Inc.  -80000.0\n",
       "3                      SONY GROUP CORPORATION  240000.0\n",
       "4                      Tokyo Electron Limited  460000.0"
      ]
     },
     "execution_count": 43,
     "metadata": {},
     "output_type": "execute_result"
    }
   ],
   "source": [
    "Top_5_for_act = df_outcome_for_act.sort_values('ROI_forecast', ascending=False).reset_index(drop=True).head(5)\n",
    "Top_5_for_act['Profit']=Top_5_for_act['ROI_actual']*2000000\n",
    "Top_5_for_act= Top_5_for_act[['Name', 'Profit']]\n",
    "Top_5_for_act"
   ]
  },
  {
   "cell_type": "code",
   "execution_count": 31,
   "metadata": {},
   "outputs": [
    {
     "data": {
      "text/plain": [
       "740000.0"
      ]
     },
     "execution_count": 31,
     "metadata": {},
     "output_type": "execute_result"
    }
   ],
   "source": [
    "ROI_f_a = Top_5_for_act['Profit_20%'].sum()\n",
    "ROI_f_a"
   ]
  },
  {
   "cell_type": "markdown",
   "metadata": {},
   "source": [
    "# Actual Profit on best performing Stocks"
   ]
  },
  {
   "cell_type": "code",
   "execution_count": 38,
   "metadata": {},
   "outputs": [],
   "source": [
    "df_outcome_act= df_outcome[['Name', 'Profit_per_Stock_actual', 'ROI_actual', 'ROI_forecast']]"
   ]
  },
  {
   "cell_type": "code",
   "execution_count": 42,
   "metadata": {},
   "outputs": [
    {
     "data": {
      "text/html": [
       "<div>\n",
       "<style scoped>\n",
       "    .dataframe tbody tr th:only-of-type {\n",
       "        vertical-align: middle;\n",
       "    }\n",
       "\n",
       "    .dataframe tbody tr th {\n",
       "        vertical-align: top;\n",
       "    }\n",
       "\n",
       "    .dataframe thead th {\n",
       "        text-align: right;\n",
       "    }\n",
       "</style>\n",
       "<table border=\"1\" class=\"dataframe\">\n",
       "  <thead>\n",
       "    <tr style=\"text-align: right;\">\n",
       "      <th></th>\n",
       "      <th>Name</th>\n",
       "      <th>ROI_forecast</th>\n",
       "      <th>ROI_actual</th>\n",
       "      <th>Profit</th>\n",
       "    </tr>\n",
       "  </thead>\n",
       "  <tbody>\n",
       "    <tr>\n",
       "      <th>0</th>\n",
       "      <td>Tokyo Electron Limited</td>\n",
       "      <td>0.04</td>\n",
       "      <td>0.23</td>\n",
       "      <td>460000.0</td>\n",
       "    </tr>\n",
       "    <tr>\n",
       "      <th>1</th>\n",
       "      <td>SONY GROUP CORPORATION</td>\n",
       "      <td>0.05</td>\n",
       "      <td>0.12</td>\n",
       "      <td>240000.0</td>\n",
       "    </tr>\n",
       "    <tr>\n",
       "      <th>2</th>\n",
       "      <td>KEYENCE CORPORATION</td>\n",
       "      <td>-0.02</td>\n",
       "      <td>0.09</td>\n",
       "      <td>180000.0</td>\n",
       "    </tr>\n",
       "    <tr>\n",
       "      <th>3</th>\n",
       "      <td>NIDEC CORPORATION</td>\n",
       "      <td>-0.04</td>\n",
       "      <td>0.07</td>\n",
       "      <td>140000.0</td>\n",
       "    </tr>\n",
       "    <tr>\n",
       "      <th>4</th>\n",
       "      <td>TOYOTA MOTOR CORPORATION</td>\n",
       "      <td>0.03</td>\n",
       "      <td>0.05</td>\n",
       "      <td>100000.0</td>\n",
       "    </tr>\n",
       "  </tbody>\n",
       "</table>\n",
       "</div>"
      ],
      "text/plain": [
       "                       Name  ROI_forecast  ROI_actual    Profit\n",
       "0    Tokyo Electron Limited          0.04        0.23  460000.0\n",
       "1    SONY GROUP CORPORATION          0.05        0.12  240000.0\n",
       "2       KEYENCE CORPORATION         -0.02        0.09  180000.0\n",
       "3         NIDEC CORPORATION         -0.04        0.07  140000.0\n",
       "4  TOYOTA MOTOR CORPORATION          0.03        0.05  100000.0"
      ]
     },
     "execution_count": 42,
     "metadata": {},
     "output_type": "execute_result"
    }
   ],
   "source": [
    "Top_5_act=df_outcome_act.sort_values('ROI_actual', ascending=False).reset_index(drop=True).head(5)\n",
    "Top_5_act['Profit']=Top_5_act['ROI_actual']*2000000\n",
    "Top_5_act= Top_5_act[['Name', 'ROI_forecast','ROI_actual', 'Profit']]\n",
    "Top_5_act"
   ]
  },
  {
   "cell_type": "code",
   "execution_count": 34,
   "metadata": {},
   "outputs": [
    {
     "data": {
      "text/plain": [
       "1120000.0"
      ]
     },
     "execution_count": 34,
     "metadata": {},
     "output_type": "execute_result"
    }
   ],
   "source": [
    "ROI_a = Top_5_act['Profit_20%'].sum()\n",
    "ROI_a"
   ]
  },
  {
   "cell_type": "markdown",
   "metadata": {},
   "source": [
    "# Error-Analysis"
   ]
  },
  {
   "cell_type": "markdown",
   "metadata": {},
   "source": [
    "We will have a look at Stock 8035 Tokyo Electron Limited to see why Facebook Prophet did not well in Predicting."
   ]
  },
  {
   "cell_type": "code",
   "execution_count": 35,
   "metadata": {},
   "outputs": [],
   "source": [
    "Code = 8035\n",
    "cols = ['Date', 'Open', 'High', 'Low', 'Close', 'Volume', 'SecuritiesCode', 'Target', '17SectorName']\n",
    "STOCK = df[df.SecuritiesCode==Code][cols].set_index(\"Date\")\n",
    "\n",
    "#Select Testsize in Days\n",
    "test_size= 30\n",
    "train_df = STOCK[:-test_size].reset_index()\n",
    "test_df = STOCK[-test_size:].reset_index()"
   ]
  },
  {
   "cell_type": "code",
   "execution_count": null,
   "metadata": {},
   "outputs": [],
   "source": [
    "df= STOCK.reset_index()\n",
    "df['Date'] = pd.to_datetime(df.Date)\n",
    "df.index = df['Date']\n",
    "plt.figure(figsize=(16,8))\n",
    "plt.plot(df['Close'], label='Close Price history',color='r')\n",
    "plt.xlabel('Date',size=20)\n",
    "plt.ylabel('Stock Price Close',size=20)\n",
    "plt.title('Stock Price over the Years',size=25)"
   ]
  },
  {
   "cell_type": "code",
   "execution_count": null,
   "metadata": {},
   "outputs": [],
   "source": [
    "\n",
    "    train_df['Date'] = pd.to_datetime(train_df.Date)\n",
    "    train_df.index = train_df['Date']\n",
    "\n",
    "    test_df['Date'] = pd.to_datetime(test_df.Date)\n",
    "    test_df.index = test_df['Date']\n",
    "    \n",
    "    forecast=pd.read_csv('forecast_8035.csv')\n",
    "    forecast_valid = forecast['yhat'][-test_size:]\n",
    "    \n",
    "    test_df['Predictions'] = forecast_valid.values\n",
    "    plt.figure(figsize=(16,8))\n",
    "    plt.plot(train_df['Close'])\n",
    "    plt.plot(test_df[['Close', 'Predictions']])\n",
    "    plt.xlabel('Date',size=20)\n",
    "    plt.ylabel('Stock Price',size=20)\n",
    "    plt.title('Stock Price Prediction by FB Prophet',size=20)\n",
    "    plt.legend(['Model Training Data','Actual Data','Predicted Data'])\n"
   ]
  },
  {
   "cell_type": "code",
   "execution_count": null,
   "metadata": {},
   "outputs": [],
   "source": []
  },
  {
   "cell_type": "code",
   "execution_count": null,
   "metadata": {},
   "outputs": [],
   "source": []
  }
 ],
 "metadata": {
  "interpreter": {
   "hash": "910400c5f82dbc5adb80f2a3d72be6218b785f1b2ab204dc9f89916ec4f30e5f"
  },
  "kernelspec": {
   "display_name": "Python 3 (ipykernel)",
   "language": "python",
   "name": "python3"
  },
  "language_info": {
   "codemirror_mode": {
    "name": "ipython",
    "version": 3
   },
   "file_extension": ".py",
   "mimetype": "text/x-python",
   "name": "python",
   "nbconvert_exporter": "python",
   "pygments_lexer": "ipython3",
   "version": "3.9.8"
  }
 },
 "nbformat": 4,
 "nbformat_minor": 4
}
